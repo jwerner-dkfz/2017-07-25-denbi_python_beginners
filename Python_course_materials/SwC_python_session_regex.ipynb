{
 "cells": [
  {
   "cell_type": "markdown",
   "metadata": {},
   "source": [
    "# Regular expressions\n",
    "\n",
    "Regular Expressions (RegEx, plural RegEx) are powerful means to search text. You are probably used to normal search dialogs that find literal text matches. RegEx start from there, and allow you to search far more flexibly.\n",
    "\n",
    "In this Notebook, we'll explore the power of regexes.\n",
    "\n",
    "The first step to using RegEx in Python is to import the \"re\" library.\n",
    "\n",
    "## Exercise: `import`ant\n",
    "execute the snippet below, to make _everything_ below here work"
   ]
  },
  {
   "cell_type": "code",
   "execution_count": null,
   "metadata": {
    "collapsed": true
   },
   "outputs": [],
   "source": [
    "import re"
   ]
  },
  {
   "cell_type": "markdown",
   "metadata": {},
   "source": [
    "## our first example\n",
    "\n",
    "Regex allow you to search text and _patterns_ of text.\n",
    "Lets try an example:"
   ]
  },
  {
   "cell_type": "code",
   "execution_count": null,
   "metadata": {},
   "outputs": [],
   "source": [
    "match = re.search(\"hello\", \"hello, this text will be searched\")"
   ]
  },
  {
   "cell_type": "markdown",
   "metadata": {},
   "source": [
    "This uses the general `search` method of the RegEx library. `search` looks for matches _anywhere_. (It's brother `match` only looks for matches _directly_ at the start of the text, see the [appendix](#match-vs-search) for more details).\n",
    "\n",
    "The first argument of these functions is the RegEx, it's searched _for_. This is also sometimes affectionally called the \"needle\".\n",
    "\n",
    "The second argument is the text that is searched for the pattern, affectionally also called \"the haystack\".\n",
    "This can be any \"normal\" text, be it literal strings, or variables containing text.\n",
    "\n",
    "Next, lets see what the search got us:"
   ]
  },
  {
   "cell_type": "code",
   "execution_count": null,
   "metadata": {},
   "outputs": [],
   "source": [
    "print(match)"
   ]
  },
  {
   "cell_type": "markdown",
   "metadata": {},
   "source": [
    "As we see, we got a `Match object`. This signals that our `search` actually found _at least_ one match inside our haystack. (if it hadn't, we would've gotten a `None`).\n",
    "\n",
    "Lets see what we can do with this `Match object`: what methods does it have?"
   ]
  },
  {
   "cell_type": "code",
   "execution_count": null,
   "metadata": {},
   "outputs": [],
   "source": [
    "dir(match)"
   ]
  },
  {
   "cell_type": "markdown",
   "metadata": {},
   "source": [
    "It is usually safe to ignore all methods whose name look like \"`__name__`\". These is Python's form of \"internal\" or \"private\" methods, and they are only relevant when you are tinkering _deeply_ under the hood of an object.\n",
    "\n",
    "The first group of methods, `start()`, `end()`, and `span()` tell us _where_ we found the result.\n",
    "  * `start()` returns the positions of the first character that matched\n",
    "  * `end()` returns the position _just after_ the last character that matched\n",
    "  * `span()` is simply the tuple `(start(), end())`"
   ]
  },
  {
   "cell_type": "code",
   "execution_count": null,
   "metadata": {},
   "outputs": [],
   "source": [
    "print(match.start())\n",
    "print(match.end())\n",
    "print(match.span())"
   ]
  },
  {
   "cell_type": "markdown",
   "metadata": {},
   "source": [
    " `string` gives us the entire text that was searched:"
   ]
  },
  {
   "cell_type": "code",
   "execution_count": null,
   "metadata": {},
   "outputs": [],
   "source": [
    "print(match.string)"
   ]
  },
  {
   "cell_type": "markdown",
   "metadata": {},
   "source": [
    "The next useful methods are `group()` and `groups()`, which show us the actual matching part(s):"
   ]
  },
  {
   "cell_type": "code",
   "execution_count": null,
   "metadata": {},
   "outputs": [],
   "source": [
    "print(match.group())\n",
    "print(match.group(0))\n",
    "print(match.groups())"
   ]
  },
  {
   "cell_type": "markdown",
   "metadata": {},
   "source": [
    "Currently, only `group()` is useful to us. We will learn the uses of `groups()` and `group(<number>)` later, when we capture multiple different groups within one RegEx search.\n",
    "\n",
    "More about Match objects in the [Python reference](https://docs.python.org/3/library/re.html#match-objects)"
   ]
  },
  {
   "cell_type": "markdown",
   "metadata": {},
   "source": [
    "# Literal matches\n",
    "\n",
    "From now on, we'll usually pre-compile our regexes, using `re.compile`. This allows us to re-use an expression multiple times, without having to repeat the (rather expensive) parsing of the pattern and construction of the searching logic every time we use the same regex. Also, it allows us to give meaningful names to our pattern such as \"email\", \"purine-base\" or \"CRISPR_pattern\".\n",
    "\n",
    "(For throw-away, single-use regexes, the `re.search` form can still be useful for brevity.)"
   ]
  },
  {
   "cell_type": "code",
   "execution_count": null,
   "metadata": {
    "collapsed": true
   },
   "outputs": [],
   "source": [
    "the_regex = re.compile(\"our Regex\")"
   ]
  },
  {
   "cell_type": "markdown",
   "metadata": {},
   "source": [
    "Now, lets see if we can find something, by inspecting the resulting `Match object`:"
   ]
  },
  {
   "cell_type": "code",
   "execution_count": null,
   "metadata": {},
   "outputs": [],
   "source": [
    "match = the_regex.search(\"this is a text to be searched\")\n",
    "if (match):\n",
    "    print(\"the regex found results the first time!\")\n",
    "    print(\"the match was:\")\n",
    "    print(match)\n",
    "else:\n",
    "    print(\"the regex didn't find results the first time\") "
   ]
  },
  {
   "cell_type": "code",
   "execution_count": null,
   "metadata": {},
   "outputs": [],
   "source": [
    "match2 = the_regex.search(\"this will be searched by our Regex\")\n",
    "if (match2):\n",
    "    print(\"the regex found results the second time!\")\n",
    "    print(\"the match was:\")\n",
    "    print(match2)\n",
    "else:\n",
    "    print(\"the regex didn't match the second time\")"
   ]
  },
  {
   "cell_type": "markdown",
   "metadata": {},
   "source": [
    "## Exercise: pretty printing\n",
    "\n",
    "Time to try something yourself!\n",
    "\n",
    "Using the methods you've learned above, and string-formatting from yesterday, to pretty-print the results contained in match2. Try to get _exactly_ this output\n",
    "\n",
    "```\n",
    "Matched \"our Regex\"\n",
    "in \"this will be searched by our Regex\"\n",
    "starts at: 25, ends at: 34\n",
    "```"
   ]
  },
  {
   "cell_type": "code",
   "execution_count": null,
   "metadata": {},
   "outputs": [],
   "source": [
    "# Now you try!\n",
    "print(\"YOUR CODE HERE\")"
   ]
  },
  {
   "cell_type": "markdown",
   "metadata": {},
   "source": [
    "## Exercise: Willkommen\n",
    "\n",
    "_slightly_ more challenging: find the start and end positions of \"_in_\" in \"_Wilkommen in Heidelberg_\":"
   ]
  },
  {
   "cell_type": "code",
   "execution_count": null,
   "metadata": {
    "collapsed": true
   },
   "outputs": [],
   "source": [
    "welcome = \"Wilkommen in Heidelberg\"\n",
    "\n",
    "# Your Code Here\n",
    "# Good Luck!"
   ]
  },
  {
   "cell_type": "markdown",
   "metadata": {},
   "source": [
    "# Multiple multiple multiple matches\n",
    "\n",
    "While it is very useful to know if a text contains a match _at all_, sometimes you want to process _every_ match.\n",
    "For these cases, the methods `findall()` and `finditer()` are used.\n",
    "\n",
    "* `findall` returns a list of 'just' the matching texts. This can be an empty list (no match), or a list with one or more elements\n",
    "* `finditer` returns an \"iterable\" of `Match objects` that can be used as we learned above."
   ]
  },
  {
   "cell_type": "code",
   "execution_count": null,
   "metadata": {},
   "outputs": [],
   "source": [
    "haystack = \"Hay is usually made by farmers. Hay is, confusingly, tolerated by many people with \\\"Hayfever\\\"\"\n",
    "needle = \"Hay\"\n",
    "\n",
    "hay_regex = re.compile(needle)\n",
    "print(\"findall:\", hay_regex.findall(haystack))"
   ]
  },
  {
   "cell_type": "code",
   "execution_count": null,
   "metadata": {},
   "outputs": [],
   "source": [
    "print(\"finditer:\", hay_regex.finditer(haystack))"
   ]
  },
  {
   "cell_type": "code",
   "execution_count": null,
   "metadata": {},
   "outputs": [],
   "source": [
    "print(\"finditer, usefully:\")\n",
    "for match in hay_regex.finditer(haystack):\n",
    "    print(match.group(), match.span())"
   ]
  },
  {
   "cell_type": "markdown",
   "metadata": {},
   "source": [
    "## Exercise: and a pony!\n",
    "\n",
    "find all the occurences of \"and\" in the text below.\n",
    "There are more than you probably think!\n",
    "use `span()` to identify where in the text they occur."
   ]
  },
  {
   "cell_type": "code",
   "execution_count": null,
   "metadata": {
    "collapsed": true
   },
   "outputs": [],
   "source": [
    "clandestine_ands = \"\"\"andreas and andy applied\n",
    "random regex until\n",
    "the dandy trainer and\n",
    "the android assistant\n",
    "aptly and accurately vandalised their\n",
    "abandonded solution in tandem\n",
    "to land the outstanding participants\n",
    "in candyland.\n",
    "\"\"\"\n",
    "\n",
    "# YOUR CODE BELOW"
   ]
  },
  {
   "cell_type": "markdown",
   "metadata": {},
   "source": [
    "# Alternation\n",
    "\n",
    "You can express \"this literal, or this other literal\" using the \"pipe\", \"|\". Example:"
   ]
  },
  {
   "cell_type": "code",
   "execution_count": null,
   "metadata": {},
   "outputs": [],
   "source": [
    "for m in re.finditer(\"cats|dogs\", \"it's raining cats and dogs today\"):\n",
    "    print(m.group(), m.span())"
   ]
  },
  {
   "cell_type": "markdown",
   "metadata": {},
   "source": [
    "## Exercise: easy as do-re-mi\n",
    "\n",
    "use alternation to find the three-character \"easy\" things from a well-known Jackson 5 song:\n",
    "\"ABC\" and \"123\""
   ]
  },
  {
   "cell_type": "code",
   "execution_count": null,
   "metadata": {},
   "outputs": [],
   "source": [
    "jackson5 = \"ABC, easy as 123\"\n",
    "\n",
    "needle = \"YOUR EASY REGEX HERE\"\n",
    "\n",
    "for m in re.finditer(needle, jackson5):\n",
    "    print(m.group(), m.span())\n",
    "else:\n",
    "    print(\"no matches (yet?)\")"
   ]
  },
  {
   "cell_type": "markdown",
   "metadata": {},
   "source": [
    "# Character classes\n",
    "\n",
    "So far, we've only (tamely) searched for literal text matches. However RegEx have far more power than that, you can define \"patterns\" to search for.\n",
    "\n",
    "The simplest type of pattern is character classes such as \"a digit\" or \"whitespace\".\n",
    "\n",
    "The most generic character class is `.`, which matches literally _any_ single character, except newlines.\n",
    "\n",
    "Many useful character classes are represented by single \"escape characters\":\n",
    " * `\\d` for any _single_ digit, 0-9\n",
    " * `\\s` for any single whitespace (space, tab (\\t), newline (\\n))\n",
    " * `\\w` for any alphanumeric, or \"word\"-character (a-z, A-Z, 0-9, and underscore (\"_\"))\n",
    "\n",
    "Character classes can be _inverted_ by CAPITALISING them:\n",
    " * `\\S` anything _except_ whitespace\n",
    " * etc.\n",
    "\n",
    "You can also make custom classes, by defining them in square brackets: `[]`\n",
    " * `[aeiou]` matches only the vowels\n",
    " * `[DKFZ]` matches ONE character, D or F or K or Z.\n",
    " \n",
    "Inside these brackets, you can use ranges of characters for brevity:\n",
    " * `[a-f]` matches one of a,b,c,d,e,f (but NOT A,B,C,D,E,F)\n",
    " * `[A-F]` matches one of A,B,C,D,E,F (but not a,b,c,d,e,f)\n",
    " * `[a-fA-F]` matches one of a,b,c,d,e,f,A,B,C,D,E,F\n",
    " * `[0-6]`: 0,1,2,3,4,5,6 (note that 0 sorts before 1, not after 9! this surprises some people!)\n",
    " \n",
    "If you want to include a literal \"-\" in your custom class, either escape it as `\\-`, or put it directly after the opening bracket: `[-....]` (where it cannot indicate a 'from-to' range).\n",
    " \n",
    "To invert a custom class, use a caret directly after the opening bracket: `[^....]` to create a \"negative class\"\n",
    " * [^a-f] matches _any_-thing, except a,b,c,d,e,f (including \"funny\" characters like newlines, tabs, exclamation marks, etc!)\n",
    " * etc.\n",
    "\n",
    "This allows you to look for multiple closely related matches with only a single regex:"
   ]
  },
  {
   "cell_type": "code",
   "execution_count": null,
   "metadata": {},
   "outputs": [],
   "source": [
    "haystack = \"hello!(1) we'll be saying hello2 a LOT in this hello-sentence(2): hello hello, count the hello6 with us! hello7\"\n",
    "needle = \"hello\\d\"\n",
    "\n",
    "hello_regex = re.compile(needle)\n",
    "for match in hello_regex.finditer(haystack):\n",
    "    print(match.group(), match.span())"
   ]
  },
  {
   "cell_type": "markdown",
   "metadata": {},
   "source": [
    "Note how we _didn't_ match \"hello!\", nor the \"hello-\" in \"hello-sentence\"\n",
    "\n",
    "## Exercise: hello, hello\n",
    "adapt `needle` above to match:\n",
    " 1. all \"hello\" NOT followed by a number (4 matches)\n",
    " 1. all \"hello\" followed by whitespace (1 match)\n",
    " 1. all \"hello\" followed by a number _less than 6_ (1 match!)\n",
    " 1. all \"hello\" followed by punctuation (3 matches)\n",
    " 1. all \"hello\" followed by ANY character (7 matches)"
   ]
  },
  {
   "cell_type": "markdown",
   "metadata": {},
   "source": [
    "## Exercise: and.. context!\n",
    "\n",
    "use your newfound ability to match arbitrary characters to make our and-exercise from above easier.\n",
    "expand the regex to also match context around the \"and\". Having the characters before and after the \"and\" should help you to identify their position in the text better.\n",
    "\n",
    "* Also try to expand the context to _two_ characters surrounding the \"and\"\n",
    "Did you lose any matches?\n",
    "\n",
    "* go back to the single character case. Did you lose any matches there?"
   ]
  },
  {
   "cell_type": "code",
   "execution_count": null,
   "metadata": {},
   "outputs": [],
   "source": [
    "print(clandestine_ands)\n",
    "\n",
    "# TASK: IMPROVE THIS\n",
    "needle = \"and\"\n",
    "\n",
    "regex = re.compile(needle)\n",
    "for match in regex.finditer(clandestine_ands):\n",
    "    print(match.group(), match.span())"
   ]
  },
  {
   "cell_type": "markdown",
   "metadata": {},
   "source": [
    "## Word boundaries, a class of their own\n",
    "\n",
    "A special character class is `\\b`, meaning \"word **b**oundary\".\n",
    "\n",
    "This class is special in that it doesn't match characters themselves, but rather a zero-length _boundary_ between two characters, to be precise, any position where we switch from a `\\w` character to a non-`\\w` (`\\W`) character, or from `\\W` back to `\\w`.\n",
    "\n",
    "This is very useful if you only want to look for complete words."
   ]
  },
  {
   "cell_type": "code",
   "execution_count": null,
   "metadata": {},
   "outputs": [],
   "source": [
    "print(re.findall(r  \"and\",   \"random and miscceleaneous are used interchangeably\"))\n",
    "print(re.findall(r\"\\band\\b\", \"random and miscceleaneous are used interchangeably\"))"
   ]
  },
  {
   "cell_type": "markdown",
   "metadata": {},
   "source": [
    "Astute readers will have noticed we used a new syntax for our regex, \"raw strings\" notation: `r\"...\"`.\n",
    "This is to avoid conflicting interpretations between _Python's_ interpretation of `\\b` (a non-printable backspace), and the _regex_ interpretation (word boundary).\n",
    "\n",
    "In general, to avoid hard-to-debug surprises, whenever you include a `\\x` escape character, or literal `\\\\` in your regexes, use the raw string notation.\n",
    "Alternatively, you can use the normal string-notation, but double-escape the '\\\\', to tell python to give a '\\' and a 'b' to the regex engine. This gets unreadable and confusing quickly, so raw-string notation is usually preferred.\n",
    "\n",
    "## Exercise: raw strings\n",
    "\n",
    "Try the `\\band\\b` regex above with (`r\"...\"`) and without the raw-string (`\"...\"`)"
   ]
  },
  {
   "cell_type": "markdown",
   "metadata": {},
   "source": [
    "# Repeating ourselves\n",
    "\n",
    "Up until now, we've learned to match single characters, or multiple single characters after one-another.\n",
    "Often, we need to match _multiple_ characters. Fortunately regex can also express repetition.\n",
    "\n",
    "## Kleene\n",
    "The simplest two repetion operators are known as the \"Kleene star\" and the \"Kleene plus\", after a mathematician who researched computability, [Stephen Cole Kleene](https://en.wikipedia.org/wiki/Stephen_Cole_Kleene) (1909-1994).\n",
    "\n",
    " * the plus, `+` means \"repeat the preceding pattern _one or more_ times.\n",
    " * the star, `*` means \"repeat the preceding pattern _zero or more_ times.\n",
    " * the question mark, `?` means \"repeat the pattern _zero or exactly one_ times. It's usually known as the \"optional\"\n",
    "\n",
    "## Kleene +\n",
    "\n",
    "The plus `+` works especially well with character classes, as it allows us to match, for example, a _series of digits_, otherwise known as a \"number\"."
   ]
  },
  {
   "cell_type": "code",
   "execution_count": null,
   "metadata": {},
   "outputs": [],
   "source": [
    "re.search(\"\\d+\", \"it's over 9000!\").group()"
   ]
  },
  {
   "cell_type": "code",
   "execution_count": null,
   "metadata": {},
   "outputs": [],
   "source": [
    "re.findall(\"\\d+\", \"be careful to format large numbers, such as 1.000.000, for easy readability\")"
   ]
  },
  {
   "cell_type": "markdown",
   "metadata": {},
   "source": [
    "## Exercise: ONE. MILLION. EUROS!\n",
    "\n",
    "replace the `\\d+` with a regex that captures the entire million as ONE match.\n",
    "(`['1.000.000']`)"
   ]
  },
  {
   "cell_type": "markdown",
   "metadata": {},
   "source": [
    "We can also match sequences of characters, also known as \"words\""
   ]
  },
  {
   "cell_type": "code",
   "execution_count": null,
   "metadata": {},
   "outputs": [],
   "source": [
    "# from \"Words\", by  William Charles Wentworth (1790 - 1872 / Australia)\n",
    "#   https://www.poemhunter.com/poem/words-6/\n",
    "poem = \"Words are deeds. The words we hear \\ May revolutionize or rear \\ A mighty state. ...\"\n",
    "re.findall(\"\\w+\", poem)"
   ]
  },
  {
   "cell_type": "markdown",
   "metadata": {},
   "source": [
    "## Exercise: Capital Idea\n",
    "\n",
    "Find only the Capitalised words in `poem` above."
   ]
  },
  {
   "cell_type": "code",
   "execution_count": null,
   "metadata": {},
   "outputs": [],
   "source": [
    "re.findall(\"YOUR REGEX HERE\", poem)"
   ]
  },
  {
   "cell_type": "markdown",
   "metadata": {},
   "source": [
    "Repetition also works perfectly fine for custom character classes:"
   ]
  },
  {
   "cell_type": "code",
   "execution_count": null,
   "metadata": {},
   "outputs": [],
   "source": [
    "# GATTACA: http://www.imdb.com/title/tt0119177/\n",
    "re.findall(\"[ACGT]+\", \"I wonder if there's DNA in the movie GATTACA\")"
   ]
  },
  {
   "cell_type": "markdown",
   "metadata": {},
   "source": [
    "## Exercise: boundary cases\n",
    "\n",
    "Note how we also matched the \"A\" in \"DNA\", even though that's only _part_ of a word.\n",
    "Fix the regex above to NOT match the \"A\" of DNA.\n",
    "\n",
    "\n",
    "## Kleene *\n",
    "\n",
    "Be careful when matching _zero_ or more with the star:\n",
    "There are a _lot_ of places where you can match exactly zero characters in a text:"
   ]
  },
  {
   "cell_type": "code",
   "execution_count": null,
   "metadata": {},
   "outputs": [],
   "source": [
    "re.findall(\"[ACGT]*\", \"I wonder if there's DNA in the movie GATTACA\")"
   ]
  },
  {
   "cell_type": "markdown",
   "metadata": {},
   "source": [
    "For this reason, the star is mostly useful if the repeated part is prefixed by a non-optional search part before it"
   ]
  },
  {
   "cell_type": "markdown",
   "metadata": {},
   "source": [
    "## Optional `?`\n",
    "\n",
    "The question mark `?` comes in especially handy with plurals:"
   ]
  },
  {
   "cell_type": "code",
   "execution_count": null,
   "metadata": {},
   "outputs": [],
   "source": [
    "re.findall(\"files?\", \"1 file, many files\")"
   ]
  },
  {
   "cell_type": "markdown",
   "metadata": {},
   "source": [
    "Note how the `?` only applied to the single character \"s\", not the rest of the string \"file\"."
   ]
  },
  {
   "cell_type": "markdown",
   "metadata": {},
   "source": [
    "# {Repeating ourselves}\n",
    "\n",
    "\"Zero or more\" repeats are quite flexible, and sometimes too much so. When we have more information on how often we should have a repeat, we can define limits using curly brackets:\n",
    " * `{n,m}` to indicate \"_between n and m_ times (inclusive)_\"\n",
    " * `{,m}` to indicate \"_at most m_ times\"\n",
    " * `{n,}` to indicate \"_at least n_ times\"\n",
    " * `{m}` to indicate \"_exactly m times_\"."
   ]
  },
  {
   "cell_type": "code",
   "execution_count": null,
   "metadata": {},
   "outputs": [],
   "source": [
    "jackson5 = \"ABC, easy as 123\"\n",
    "\n",
    "print(re.findall(\"[CBA]{3}\", jackson5))\n",
    "print(re.findall(\"\\d{3}\", jackson5))"
   ]
  },
  {
   "cell_type": "code",
   "execution_count": null,
   "metadata": {},
   "outputs": [],
   "source": [
    "sentence = \"shorter and longer words are variously occuring inside prosaic formulaic text in a pattern I cannot discern at a glance\"\n",
    "\n",
    "mini_words   = r\"\\b\\w{1,2}\\b\"\n",
    "medium_words = r\"\\b\\w{3,6}\\b\"\n",
    "long_words   = r\"\\b\\w{7,}\\b\"\n",
    "print(re.findall(mini_words, sentence))\n",
    "print(re.findall(medium_words, sentence))\n",
    "print(re.findall(long_words, sentence))"
   ]
  },
  {
   "cell_type": "markdown",
   "metadata": {},
   "source": [
    "## Exercise: Cas9\n",
    "\n",
    "write a regex that matches the [Cas9](https://en.wikipedia.org/wiki/Cas9) genome editing search pattern of:\n",
    " * start: ACC \n",
    " * twenty or twentyone random bases\n",
    " * end: a G\n",
    " \n",
    "There are (at least) two straigthforward solutions that are both wholly correct."
   ]
  },
  {
   "cell_type": "code",
   "execution_count": null,
   "metadata": {
    "collapsed": true
   },
   "outputs": [],
   "source": [
    "haystack = \"TATAGACTACCTACGATCGATGTCAGTCAGTAGGATTT\"\n",
    "\n",
    "needle = \"YOUR CODE HERE\"\n",
    "\n",
    "re.search(needle, haystack)"
   ]
  },
  {
   "cell_type": "markdown",
   "metadata": {},
   "source": [
    "# greed and repetition\n",
    "\n",
    "Repetition, by default is \"greedy\". It matches as many repetitions as it can get away with.\n",
    "In some, rarer, situations, you want to match \"non-greedy\", as few repetitions as possible.\n",
    "The non-greedy operators simply have an extra question mark `?` appended to them:"
   ]
  },
  {
   "cell_type": "code",
   "execution_count": null,
   "metadata": {},
   "outputs": [],
   "source": [
    "re.search(\"\\d+?\", \"it's over 9000!\").group()"
   ]
  },
  {
   "cell_type": "code",
   "execution_count": null,
   "metadata": {},
   "outputs": [],
   "source": [
    "re.findall(\"[ACGT]+?\", \"I wonder if there's DNA in the movie GATTACA\")"
   ]
  },
  {
   "cell_type": "code",
   "execution_count": null,
   "metadata": {},
   "outputs": [],
   "source": [
    "re.findall(\"files??\", \"1 file, many files.\")"
   ]
  },
  {
   "cell_type": "markdown",
   "metadata": {},
   "source": [
    "non-greedy matches are useful if you want to match the shortest possible segment.\n",
    "\n",
    "An example would be directory names in a path: `/your/very/long/path/with/a/file.txt`\n",
    "matching `/.+/` using a greedy repetition matches way more than you intend.\n",
    "Using a non-greedy operator fixes this problem, although it is also often possible to rewrite your character class to exclude the double match\n",
    "\n",
    "## Exercise: folders\n",
    "\n",
    "match the individual folder names, but NOT the \"file.txt\".\n",
    "The folder names should not include any slashes.\n",
    "\n",
    "* try it once with non-greedy repetition\n",
    "* try it once without using any `?`, but with custom character classes instead, `(^_^)` (kawaii-smiley!)"
   ]
  },
  {
   "cell_type": "code",
   "execution_count": null,
   "metadata": {
    "collapsed": true
   },
   "outputs": [],
   "source": [
    "path = '/your/very/long/path/with/a/file.txt'\n",
    "\n",
    "# YOUR CODE BELOW"
   ]
  },
  {
   "cell_type": "markdown",
   "metadata": {},
   "source": [
    "# ^Anchors$\n",
    "\n",
    "Matches so far have occured anywhere in the string, although we could limit it somewhat with our `\\b` word boundaries.\n",
    "A special boundary that is often useful is that at the beginning or end of the text. These can also be referred to:\n",
    " * `^` matches the beginning of the haystack, the zero-length boundary just before the first character\n",
    " * `$` matches the end of the haystack, the zero-length boundary just after the last character.\n",
    "\n",
    "## Exercise: Truth\n",
    "\n",
    "Using anchors, match both \"the whole Truth\"s below, in separate regexes. (Funny how there's always more than one truth!)\n",
    " * the first should match from (0,15)\n",
    " * the second from (33, 48)\n"
   ]
  },
  {
   "cell_type": "code",
   "execution_count": null,
   "metadata": {},
   "outputs": [],
   "source": [
    "haystack = \"the whole Truth, and nothing BUT the whole Truth\"\n",
    "\n",
    "print(re.search(\"YOUR CODE HERE\", haystack).span()) # first\n",
    "print(re.search(\"YOUR CODE HERE\", haystack).span()) # last"
   ]
  },
  {
   "cell_type": "markdown",
   "metadata": {},
   "source": [
    "# Grouping and Capturing\n",
    "\n",
    "We've gotten quite far with literals, character classes and literals followed or preceded by character classes.\n",
    "Now, we'll learn about grouping parts of a regex together, for this, we use the round brackets: `()`.\n",
    "\n",
    "Grouping something allows us, for example, to apply a repeat operator to a block of characters, instead of just a single character."
   ]
  },
  {
   "cell_type": "code",
   "execution_count": null,
   "metadata": {},
   "outputs": [],
   "source": [
    "re.search(\"ba(na){2}\", \"banana!\").group()"
   ]
  },
  {
   "cell_type": "code",
   "execution_count": null,
   "metadata": {},
   "outputs": [],
   "source": [
    "re.search(\"(na )+\", \"na na na na na na na na na na na, hey Jude!\").group()"
   ]
  },
  {
   "cell_type": "markdown",
   "metadata": {},
   "source": [
    "A big advantage of brackets is that they create a \"capture group\". The match stores an extra reference to whatever is matched by the brackets. We can use this to find out what our flexible character classes ended up matching.\n",
    "\n",
    "Groups are numbered by their opening brackets, and this number can be used with `group(<number>)`, as we learned way back in the beginning. Group number zero is always the entire match."
   ]
  },
  {
   "cell_type": "code",
   "execution_count": null,
   "metadata": {},
   "outputs": [],
   "source": [
    "# https://www.songsforteaching.com/folk/ilovethemountains.php\n",
    "boom_de_yada = \"I love the mountains. I love the rolling hills. I love the flowers. I love the daffodils. I love the fireside. When all the lights are low.\"\n",
    "\n",
    "needle = \"I love the (\\w+)\"\n",
    "\n",
    "for match in re.finditer(needle, boom_de_yada):\n",
    "    print(\"entire match: %s\" % match.group())\n",
    "    print(\"group 0:      %s\" % match.group(0))\n",
    "    print(\"group 1:      %s\" % match.group(1))\n",
    "    print(\"---\")"
   ]
  },
  {
   "cell_type": "markdown",
   "metadata": {},
   "source": [
    "## Exercise: rolling hills\n",
    "\n",
    "Notice that we missed the \"hills\" part of \"rolling hills\". Adapt the regex so that the capture contents include the full \"rolling hills\".\n",
    "\n",
    "Do not lose the other matches!"
   ]
  },
  {
   "cell_type": "markdown",
   "metadata": {},
   "source": [
    "## Exercise: monitor resolutions\n",
    "\n",
    "Using capture groups, extract the monitor resolutions X and Y pixel counts from the advertising snippet below"
   ]
  },
  {
   "cell_type": "code",
   "execution_count": null,
   "metadata": {},
   "outputs": [],
   "source": [
    "marketing = \"Supported resolutions: 800x600, 1024x768, 1280x1024, 1920x1080\"\n",
    "\n",
    "resolution_regex = r\"YOUR CODE HERE\"\n",
    "\n",
    "for m in re.finditer(resolution_regex, marketing):\n",
    "    print(\"X:\")\n",
    "    # YOUR CODE HERE\n",
    "    print(\"Y:\")\n",
    "    # YOUR CODE HERE\n",
    "else:\n",
    "    print(\"no matches (yet?)\")"
   ]
  },
  {
   "cell_type": "markdown",
   "metadata": {},
   "source": [
    "## Exercise: Cas9 again\n",
    "\n",
    "In our Cas9 example [from earlier](#Exercise:-Cas9), extract the variable DNA part in a capture group and print it"
   ]
  },
  {
   "cell_type": "code",
   "execution_count": null,
   "metadata": {
    "collapsed": true
   },
   "outputs": [],
   "source": [
    "haystack = \"TATAGACTACCTACGATCGATGTCAGTCAGTAGGATTT\"\n",
    "\n",
    "# YOUR CODE HERE"
   ]
  },
  {
   "cell_type": "markdown",
   "metadata": {},
   "source": [
    "# GRAND FINALE: Code Golf exercise\n",
    "\n",
    "\"Code golf\" is the programmer-\"sport\" of trying to solve a given problem using the least amount of characters.\n",
    "\n",
    "In this golfing exercise, using everything that you have learned so far, write a SINGLE regex that matches the names of all female Nobel prize winners for Physics, Chemistry and Medicine, but NOT Alfred Nobel himself."
   ]
  },
  {
   "cell_type": "code",
   "execution_count": null,
   "metadata": {},
   "outputs": [],
   "source": [
    "dont_match = \"Alfred Bernhard Nobel\"\n",
    "do_match = [\n",
    "    \"Ada Yonath\",\n",
    "    \"Barbara McClintock\",\n",
    "    \"Carol Widney Greider\",\n",
    "    \"Christiane Nüsslein-Volhard\",\n",
    "    \"Dorothy Crowfoot Hodgkin\",\n",
    "    \"Elizabeth Helen Blackburn\",\n",
    "    \"Françoise Barré-Sinoussi\",\n",
    "    \"Gertrude Belle Elion\",\n",
    "    \"Gerty Theresa Cori\",\n",
    "    \"Irène Joliot-Curie\",\n",
    "    \"Linda Brown Buck\",\n",
    "    \"Maria Goeppert Mayer\",\n",
    "    \"Marie Curie\",\n",
    "    \"Marie Curie\", # Yup, she won TWICE!\n",
    "    \"May-Britt Moser\",\n",
    "    \"Rita Levi-Montalcini\",\n",
    "    \"Rosalyn Yalow\",\n",
    "    \"Youyou Tu\"\n",
    "]\n",
    "\n",
    "# GOOD LUCK!\n",
    "needle = r\"YOUR AWESOME REGEX HERE\"\n",
    "\n",
    "\n",
    "#################################################\n",
    "## Validation and printing logic, no need to edit\n",
    "\n",
    "print(\"your regex: %s\\n\\\n",
    "length: %s\" % (needle, len(needle)))\n",
    "\n",
    "print(\"\\n== shouldn't match ==\")\n",
    "\n",
    "regex = re.compile(needle)\n",
    "\n",
    "# verify dont_match\n",
    "if (regex.search(dont_match)):\n",
    "    print(\"WRONG: \", dont_match)\n",
    "else:\n",
    "    print(\"RIGHT: \", dont_match)\n",
    "    \n",
    "print(\"\\n== should match ==\")\n",
    "\n",
    "for awesome_lady in do_match:\n",
    "    m = regex.search(awesome_lady)\n",
    "    if (m):\n",
    "        print(\"RIGHT: \", awesome_lady)\n",
    "    else:\n",
    "        print(\"WRONG: \", awesome_lady)\n",
    "    "
   ]
  },
  {
   "cell_type": "markdown",
   "metadata": {},
   "source": [
    "# Appendix\n",
    "\n",
    "## `match` vs `search`"
   ]
  },
  {
   "cell_type": "code",
   "execution_count": null,
   "metadata": {
    "scrolled": false
   },
   "outputs": [],
   "source": [
    "help(the_regex.match)\n",
    "help(the_regex.search)"
   ]
  },
  {
   "cell_type": "markdown",
   "metadata": {},
   "source": [
    "## Further Reading\n",
    "\n",
    "* Python `re` reference page: https://docs.python.org/3/library/re.html\n",
    "* \"Mastering Regular Expressions\", by Jeffrey Friedl, http://shop.oreilly.com/product/9781565922570.do"
   ]
  }
 ],
 "metadata": {
  "kernelspec": {
   "display_name": "Python 3",
   "language": "python",
   "name": "python3"
  },
  "language_info": {
   "codemirror_mode": {
    "name": "ipython",
    "version": 3
   },
   "file_extension": ".py",
   "mimetype": "text/x-python",
   "name": "python",
   "nbconvert_exporter": "python",
   "pygments_lexer": "ipython3",
   "version": "3.6.1"
  }
 },
 "nbformat": 4,
 "nbformat_minor": 1
}

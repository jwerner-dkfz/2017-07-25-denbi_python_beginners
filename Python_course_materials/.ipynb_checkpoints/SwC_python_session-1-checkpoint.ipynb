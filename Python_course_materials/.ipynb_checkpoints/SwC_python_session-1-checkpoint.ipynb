{
 "cells": [
  {
   "cell_type": "code",
   "execution_count": 5,
   "metadata": {
    "collapsed": true
   },
   "outputs": [],
   "source": [
    "%matplotlib inline"
   ]
  },
  {
   "cell_type": "markdown",
   "metadata": {},
   "source": [
    "# Programming in Python"
   ]
  },
  {
   "cell_type": "markdown",
   "metadata": {},
   "source": [
    "## Session 1"
   ]
  },
  {
   "cell_type": "markdown",
   "metadata": {},
   "source": [
    "### Aim of the Session\n",
    "Learn/review the basics\n",
    "- what is ...\n",
    "- how to ..."
   ]
  },
  {
   "cell_type": "markdown",
   "metadata": {},
   "source": [
    "### 'Hello World!'"
   ]
  },
  {
   "cell_type": "code",
   "execution_count": 1,
   "metadata": {
    "collapsed": false
   },
   "outputs": [
    {
     "name": "stdout",
     "output_type": "stream",
     "text": [
      "hello world\n"
     ]
    }
   ],
   "source": [
    "# the culturally-expected introductory statement\n",
    "print(\"hello world\")"
   ]
  },
  {
   "cell_type": "code",
   "execution_count": 2,
   "metadata": {
    "collapsed": true
   },
   "outputs": [],
   "source": [
    "# an example of what you can achieve with Python in just a few lines\n"
   ]
  },
  {
   "cell_type": "markdown",
   "metadata": {},
   "source": [
    "### Literals"
   ]
  },
  {
   "cell_type": "markdown",
   "metadata": {},
   "source": [
    "Values of a _type_, presented literally"
   ]
  },
  {
   "cell_type": "code",
   "execution_count": 4,
   "metadata": {
    "collapsed": false
   },
   "outputs": [
    {
     "name": "stdout",
     "output_type": "stream",
     "text": [
      "42\n",
      "hello\n"
     ]
    }
   ],
   "source": [
    "# example        name       type designation\n",
    "42             # integer    int\n",
    "2.016          # float      float*\n",
    "\"Homo sapiens\" # string     str\n",
    "\"42\"\n",
    "print(42)\n",
    "print(\"hello\")"
   ]
  },
  {
   "cell_type": "markdown",
   "metadata": {},
   "source": [
    "- int: whole numbers e.g. 1, 1000, 6000000000\n",
    "- float: 'floating point' non-whole numbers e.g. 1.9, 30.01, 10e3, 1e-3\n",
    "- string: ordered sequence of characters, enclosed in quotation marks (single, double, _triple_)"
   ]
  },
  {
   "cell_type": "code",
   "execution_count": 8,
   "metadata": {
    "collapsed": false
   },
   "outputs": [
    {
     "name": "stdout",
     "output_type": "stream",
     "text": [
      "<class 'int'>\n",
      "<class 'str'>\n"
     ]
    }
   ],
   "source": [
    "# type conversions\n",
    "\n",
    "print(type(42))\n",
    "print(type(\"42\"))"
   ]
  },
  {
   "cell_type": "markdown",
   "metadata": {},
   "source": [
    "#### Aside - Comments\n",
    "\n",
    "Comments are preceded by a **#**, and are completely ignored by the python interpreter. \n",
    "Comments can be on their own line or after a line of code.\n",
    "\n",
    "Comments are an incredibly useful way to keep track of what you are doing in\n",
    "your code. Use comments to document what you do as much as possible, it will\n",
    "pay off in the long run.\n"
   ]
  },
  {
   "cell_type": "markdown",
   "metadata": {},
   "source": [
    "### Exercises 1"
   ]
  },
  {
   "cell_type": "code",
   "execution_count": 9,
   "metadata": {
    "collapsed": false
   },
   "outputs": [
    {
     "name": "stdout",
     "output_type": "stream",
     "text": [
      "print something\n"
     ]
    }
   ],
   "source": [
    "# print some strings\n",
    "print(\"print something\")"
   ]
  },
  {
   "cell_type": "code",
   "execution_count": 10,
   "metadata": {
    "collapsed": false
   },
   "outputs": [
    {
     "name": "stdout",
     "output_type": "stream",
     "text": [
      "42 45.99 789.999999\n"
     ]
    }
   ],
   "source": [
    "# print some numbers (ints or floats)\n",
    "print(42, 45.99, 789.999999)"
   ]
  },
  {
   "cell_type": "code",
   "execution_count": 11,
   "metadata": {
    "collapsed": false
   },
   "outputs": [
    {
     "name": "stdout",
     "output_type": "stream",
     "text": [
      "3545637 words and this 9866.9877\n"
     ]
    }
   ],
   "source": [
    "# print multiple values of different types all at once\n",
    "#   (hints: use comma to separate values with a space, or + to join strings)\n",
    "print(3545637, \"words\", \"and this\", 9866.9877)"
   ]
  },
  {
   "cell_type": "code",
   "execution_count": 13,
   "metadata": {
    "collapsed": false
   },
   "outputs": [
    {
     "name": "stdout",
     "output_type": "stream",
     "text": [
      "this is my name:\"malvika\"\n"
     ]
    }
   ],
   "source": [
    "# print a string containing quote marks\n",
    "print('this is my name:\"malvika\"')"
   ]
  },
  {
   "cell_type": "markdown",
   "metadata": {},
   "source": [
    "### Variables"
   ]
  },
  {
   "cell_type": "markdown",
   "metadata": {},
   "source": [
    "Store values (information) in memory, and (re-)use them. We give variables names (identifiers) so that we have a means of referring to the information on demand."
   ]
  },
  {
   "cell_type": "code",
   "execution_count": 18,
   "metadata": {
    "collapsed": false
   },
   "outputs": [
    {
     "name": "stdout",
     "output_type": "stream",
     "text": [
      "denbi\n"
     ]
    }
   ],
   "source": [
    "# variable assignment is done with '='\n",
    "\n",
    "myname = \"denbi\"\n",
    "print(myname)"
   ]
  },
  {
   "cell_type": "code",
   "execution_count": 22,
   "metadata": {
    "collapsed": false
   },
   "outputs": [
    {
     "name": "stdout",
     "output_type": "stream",
     "text": [
      "6779 7668.98\n"
     ]
    }
   ],
   "source": [
    "myname1 = \"this class\"\n",
    "# print(myname1, myname)\n",
    "myint = 6779\n",
    "myfloat = 7668.98\n",
    "\n",
    "print(myint, myfloat)"
   ]
  },
  {
   "cell_type": "code",
   "execution_count": 27,
   "metadata": {
    "collapsed": false
   },
   "outputs": [
    {
     "name": "stdout",
     "output_type": "stream",
     "text": [
      "myint value is: 6779 and myfloat value is: 7668.98\n",
      "myint value is: 7668.98 and myfloat is: 6779\n",
      "myint value is: 7668.98 and myfloat is: 6779\n"
     ]
    }
   ],
   "source": [
    "print(\"myint value is:\", myint, \"and myfloat value is:\", myfloat)\n",
    "\n",
    "print(\"myint value is: %s and myfloat is: %s\" % (myfloat, myint))\n",
    "\n",
    "print(\"myint value is: {} and myfloat is: {}\".format(myfloat, myint))"
   ]
  },
  {
   "cell_type": "markdown",
   "metadata": {},
   "source": [
    "\n",
    "#### Variable naming\n",
    "Rules:\n",
    "\n",
    "- identifier lookup is case-sensitive\n",
    "  - `myname` & `MyName` are different\n",
    "- must be unique in your working environment\n",
    "  - existing variable will be __over-written without warning__\n",
    "- cannot start with a number, or any special symbol (e.g. $, %, @, -, etc...) except for \"_\" (underscore), which is OK.\n",
    "- cannot have any spaces or special characters (except for \"-\" (hyphen) and \"_\" (underscore))\n",
    "\n",
    "Conventions/good practice:\n",
    "\n",
    "- identifiers (usually) begin with a lowercase letter\n",
    "- followed by letters, numbers, underscores\n",
    "- use a strategy to make reading easier\n",
    "  - `myName`\n",
    "  - `exciting_variable`\n",
    "- long, descriptive > short, vague"
   ]
  },
  {
   "cell_type": "markdown",
   "metadata": {},
   "source": [
    "### String Formatting\n",
    "Create formatted strings, with variable values substituted in."
   ]
  },
  {
   "cell_type": "code",
   "execution_count": 11,
   "metadata": {
    "collapsed": false
   },
   "outputs": [
    {
     "name": "stdout",
     "output_type": "stream",
     "text": [
      "Florence is 73 years old\n",
      "Florence is 73 years old\n"
     ]
    }
   ],
   "source": [
    "# two ways to do it in Python\n",
    "name = 'Florence'\n",
    "age = 73\n",
    "print('%s is %s years old' % (name, age)) # common amongst many programming languages\n",
    "\n",
    "print('{} is {} years old'.format(name, age)) # perhaps more consistent with stardard Python syntax\n",
    "\n"
   ]
  },
  {
   "cell_type": "markdown",
   "metadata": {},
   "source": [
    "### Operators & Operands"
   ]
  },
  {
   "cell_type": "markdown",
   "metadata": {},
   "source": [
    "Using Python as a calculator: `+`, `-`, `/`, `*` etc are _operators_, the values/variables that they work on are _operands_."
   ]
  },
  {
   "cell_type": "code",
   "execution_count": 33,
   "metadata": {
    "collapsed": false
   },
   "outputs": [
    {
     "name": "stdout",
     "output_type": "stream",
     "text": [
      "51988015.419999994\n",
      "2259.6666666666665\n",
      "aaa\n",
      "ab\n"
     ]
    }
   ],
   "source": [
    "# standard mathematical operations can be performed in Python\n",
    "56+89\n",
    "67*89.87\n",
    "\n",
    "print(myint*myfloat)\n",
    "print(myint/3)\n",
    "\n",
    "# and some less common ones\n",
    "print(\"a\"*3)\n",
    "print(\"a\"+\"b\")\n"
   ]
  },
  {
   "cell_type": "markdown",
   "metadata": {},
   "source": [
    "_Note: check out numpy, scipy, stats modules if you want to do a lot of maths_"
   ]
  },
  {
   "cell_type": "markdown",
   "metadata": {},
   "source": [
    "### Data Structures"
   ]
  },
  {
   "cell_type": "markdown",
   "metadata": {},
   "source": [
    "Programming generally requires building/working with much larger and more complex sets of data than the single values/words/sentences that we have looked at so far. In fact, finding ways to operate effectively (and efficiently) on complex structures in order to extract/produce information, _is_ (data) programming.\n",
    "\n",
    "Python has two most commonly-used structures for storing multiple pieces of data - _lists_ and _dictionaries_. Let's look at these, and a few more, now."
   ]
  },
  {
   "cell_type": "markdown",
   "metadata": {},
   "source": [
    "#### Lists"
   ]
  },
  {
   "cell_type": "code",
   "execution_count": 1,
   "metadata": {
    "collapsed": false
   },
   "outputs": [
    {
     "ename": "NameError",
     "evalue": "name 'number' is not defined",
     "output_type": "error",
     "traceback": [
      "\u001b[0;31m--------------------------------------------------------\u001b[0m",
      "\u001b[0;31mNameError\u001b[0m              Traceback (most recent call last)",
      "\u001b[0;32m<ipython-input-1-13990a0b4a92>\u001b[0m in \u001b[0;36m<module>\u001b[0;34m()\u001b[0m\n\u001b[1;32m      3\u001b[0m \u001b[0mmixed_list\u001b[0m \u001b[0;34m=\u001b[0m \u001b[0;34m[\u001b[0m\u001b[0;36m1\u001b[0m\u001b[0;34m,\u001b[0m \u001b[0;34m'b'\u001b[0m\u001b[0;34m,\u001b[0m \u001b[0;36m3.0\u001b[0m\u001b[0;34m,\u001b[0m \u001b[0;34m'd'\u001b[0m\u001b[0;34m]\u001b[0m\u001b[0;34m\u001b[0m\u001b[0m\n\u001b[1;32m      4\u001b[0m \u001b[0;34m\u001b[0m\u001b[0m\n\u001b[0;32m----> 5\u001b[0;31m \u001b[0mprint\u001b[0m\u001b[0;34m(\u001b[0m\u001b[0mnumber\u001b[0m\u001b[0;34m)\u001b[0m\u001b[0;34m\u001b[0m\u001b[0m\n\u001b[0m\u001b[1;32m      6\u001b[0m \u001b[0;34m\u001b[0m\u001b[0m\n\u001b[1;32m      7\u001b[0m \u001b[0mempty_list\u001b[0m \u001b[0;34m=\u001b[0m \u001b[0;34m[\u001b[0m\u001b[0;34m]\u001b[0m\u001b[0;34m\u001b[0m\u001b[0m\n",
      "\u001b[0;31mNameError\u001b[0m: name 'number' is not defined"
     ]
    }
   ],
   "source": [
    "# sequence of entries, in order and of any type\n",
    "numbers    = [32, 72, 42]\n",
    "mixed_list = [1, 'b', 3.0, 'd']\n",
    "\n",
    "print(number)\n",
    "\n",
    "empty_list = []\n",
    "another_empty_list = list()\n",
    "\n",
    "letters = list('abcdefghi')\n",
    "\n",
    "# accessing list entries\n",
    "\n",
    "# adding/removing entries\n",
    "\n",
    "# changing the order of entries\n"
   ]
  },
  {
   "cell_type": "code",
   "execution_count": 5,
   "metadata": {
    "collapsed": false
   },
   "outputs": [
    {
     "name": "stdout",
     "output_type": "stream",
     "text": [
      "[]\n",
      "['this value']\n",
      "['this value', 'this value 2']\n",
      "['this value', 'this value 2', 'this value 3']\n",
      "['this value', 'this value 2', 'this value 3', 76890.789]\n"
     ]
    }
   ],
   "source": [
    "# sequence of entries, in order and of any type\n",
    "numbers    = [32, 72, 42]\n",
    "mixed_list = [1, 'b', 3.0, 'd']\n",
    "\n",
    "#print(numbers)\n",
    "\n",
    "empty_list = []\n",
    "another_empty_list = list()\n",
    "\n",
    "print(empty_list)\n",
    "empty_list.append(\"this value\")\n",
    "\n",
    "print(empty_list)\n",
    "empty_list.append(\"this value 2\")\n",
    "\n",
    "print(empty_list)\n",
    "empty_list.append(\"this value 3\")\n",
    "\n",
    "print(empty_list)\n",
    "empty_list.append(76890.789)\n",
    "\n",
    "print(empty_list)\n",
    "\n",
    "letters = list('abcdefghi')\n"
   ]
  },
  {
   "cell_type": "code",
   "execution_count": 28,
   "metadata": {
    "collapsed": false
   },
   "outputs": [
    {
     "name": "stdout",
     "output_type": "stream",
     "text": [
      "72\n",
      "32\n",
      "42\n",
      "[32, 72, 42, 788]\n",
      "[32, 72, 788]\n",
      "[32, 788]\n",
      "[32, 788, 899]\n",
      "[32, 788, 899]\n",
      "[32, 788, 899]\n"
     ]
    }
   ],
   "source": [
    "numbers = [32, 72, 42]\n",
    "\n",
    "# accessing list entries\n",
    "print(numbers[1])\n",
    "print(numbers[0])\n",
    "print(numbers[-1])\n",
    "\n",
    "# adding/removing entries\n",
    "numbers.append(788)\n",
    "\n",
    "print(numbers)\n",
    "numbers.remove(42)\n",
    "\n",
    "print(numbers)\n",
    "numbers.remove(numbers[1])\n",
    "print(numbers)\n",
    "\n",
    "numbers.append(899)\n",
    "print(numbers)\n",
    "\n",
    "number_copy = numbers.copy()\n",
    "\n",
    "number_clone = numbers\n",
    "print(number_copy)\n",
    "print(number_clone)\n",
    "# changing the order of entries"
   ]
  },
  {
   "cell_type": "code",
   "execution_count": 31,
   "metadata": {
    "collapsed": false
   },
   "outputs": [
    {
     "name": "stdout",
     "output_type": "stream",
     "text": [
      "[899, 788, 32]\n",
      "[899, 788, 32]\n",
      "[32, 788, 899]\n"
     ]
    }
   ],
   "source": [
    "number_copy = numbers.copy()\n",
    "print(number_copy)\n",
    "\n",
    "# numbers.clear() #remove everything\n",
    "\n",
    "print(number_clone)\n",
    "\n",
    "# changing the order of entries\n",
    "numbers.reverse()\n",
    "print(numbers)"
   ]
  },
  {
   "cell_type": "markdown",
   "metadata": {},
   "source": [
    "#### Objects, Methods, and How To Get Help"
   ]
  },
  {
   "cell_type": "code",
   "execution_count": null,
   "metadata": {
    "collapsed": true
   },
   "outputs": [],
   "source": []
  },
  {
   "cell_type": "markdown",
   "metadata": {},
   "source": [
    "In Python, everything is an _object_ - some value(s), packaged up with a set of things that can be done with/to it (___methods___), and pieces of information about it (___attributes___). This makes it very easy to perform the most commonly-needed operations for that/those type of value(s). The language has a standard syntax for accessing methods:"
   ]
  },
  {
   "cell_type": "code",
   "execution_count": 34,
   "metadata": {
    "collapsed": false
   },
   "outputs": [
    {
     "name": "stdout",
     "output_type": "stream",
     "text": [
      "I REMEMBER, STANDING BY THE WALL\n",
      "i remember, standing by the wall\n",
      "Denbi\n"
     ]
    }
   ],
   "source": [
    "string_object = 'I remember, standing by the wall'\n",
    "name = 'denbi'\n",
    "# methods - object.something()\n",
    "print(string_object.upper())\n",
    "print(string_object.lower())\n",
    "\n",
    "print(name.capitalize())\n",
    "# more..."
   ]
  },
  {
   "cell_type": "code",
   "execution_count": 39,
   "metadata": {
    "collapsed": false
   },
   "outputs": [
    {
     "name": "stdout",
     "output_type": "stream",
     "text": [
      "{'key1': 'val1', 'key4656': 678.999, 'name': 'denbi'}\n",
      "denbi\n",
      "val1\n"
     ]
    }
   ],
   "source": [
    "# dir() and help()\n",
    "mydir = {}\n",
    "\n",
    "mydir = {\"key1\" : \"val1\", \"key4656\" : 678.999, \n",
    "         \"name\" : \"denbi\"}\n",
    "print(mydir)\n",
    "\n",
    "print(mydir[\"name\"])\n",
    "print(mydir[\"key1\"])"
   ]
  },
  {
   "cell_type": "code",
   "execution_count": 32,
   "metadata": {
    "collapsed": true
   },
   "outputs": [],
   "source": [
    "# sets\n"
   ]
  },
  {
   "cell_type": "markdown",
   "metadata": {},
   "source": [
    "### Exercises 2"
   ]
  },
  {
   "cell_type": "code",
   "execution_count": 48,
   "metadata": {
    "collapsed": false
   },
   "outputs": [
    {
     "name": "stdout",
     "output_type": "stream",
     "text": [
      "['Sandy', 'Pete', 'Richard', 'Rebecca', 'Sally']\n"
     ]
    }
   ],
   "source": [
    "# add 'Sally' to the list of students' names\n",
    "student_names = ['Sandy', 'Pete', 'Richard', 'Rebecca']\n",
    "student_names.append(\"Sally\")\n",
    "print(student_names)"
   ]
  },
  {
   "cell_type": "code",
   "execution_count": 45,
   "metadata": {
    "collapsed": false
   },
   "outputs": [
    {
     "name": "stdout",
     "output_type": "stream",
     "text": [
      "Rebecca\n"
     ]
    }
   ],
   "source": [
    "# access the fourth entry of the list\n",
    "print(student_names[3])\n"
   ]
  },
  {
   "cell_type": "code",
   "execution_count": 51,
   "metadata": {
    "collapsed": false
   },
   "outputs": [
    {
     "name": "stdout",
     "output_type": "stream",
     "text": [
      "Merged into a new list: ['Sandy', 'Pete', 'Richard', 'Rebecca', 'Sally', 'Sam', 'Fiona', 'Sarah', 'Richard', 'Sarah', 'Matthew', 'Sam', 'Fiona', 'Sarah', 'Richard', 'Sarah', 'Matthew', 'Sam', 'Fiona', 'Sarah', 'Richard', 'Sarah', 'Matthew']\n",
      "student_names extended ['Sandy', 'Pete', 'Richard', 'Rebecca', 'Sally', 'Sam', 'Fiona', 'Sarah', 'Richard', 'Sarah', 'Matthew', 'Sam', 'Fiona', 'Sarah', 'Richard', 'Sarah', 'Matthew', 'Sam', 'Fiona', 'Sarah', 'Richard', 'Sarah', 'Matthew']\n"
     ]
    }
   ],
   "source": [
    "# join the list with a new list from another class\n",
    "\n",
    "other_student_names = ['Sam', 'Fiona', 'Sarah', \n",
    "                       'Richard', 'Sarah', 'Matthew']\n",
    "\n",
    "mixed_student_names = student_names + other_student_names\n",
    "\n",
    "print(\"Merged into a new list: %s\" % mixed_student_names)\n",
    "\n",
    "student_names.extend(other_student_names)\n",
    "print(\"student_names extended %s\" % student_names)"
   ]
  },
  {
   "cell_type": "code",
   "execution_count": 54,
   "metadata": {
    "collapsed": false
   },
   "outputs": [
    {
     "name": "stdout",
     "output_type": "stream",
     "text": [
      "{'Richard', 'Rebecca', 'Sam', 'Sarah', 'Sally', 'Sandy', 'Fiona', 'Matthew', 'Pete'}\n",
      "['Richard', 'Rebecca', 'Sam', 'Sarah', 'Sally', 'Sandy', 'Fiona', 'Matthew', 'Pete']\n"
     ]
    }
   ],
   "source": [
    "print(set(student_names))\n",
    "print(list(set(student_names)))"
   ]
  },
  {
   "cell_type": "markdown",
   "metadata": {},
   "source": [
    "#### Dictionaries"
   ]
  },
  {
   "cell_type": "code",
   "execution_count": 62,
   "metadata": {
    "collapsed": false
   },
   "outputs": [
    {
     "name": "stdout",
     "output_type": "stream",
     "text": [
      "{'Alessio': 67, 'Nic': 48, 'Georg': 68}\n"
     ]
    },
    {
     "data": {
      "text/plain": [
       "67"
      ]
     },
     "execution_count": 62,
     "metadata": {},
     "output_type": "execute_result"
    }
   ],
   "source": [
    "# collection of paired information - keys and values\n",
    "student_marks = {'Alessio': 67, 'Nic': 48, 'Georg': 68}\n",
    "\n",
    "empty_dict         = {}\n",
    "another_empty_dict = dict()\n",
    "\n",
    "student_marks[\"newkey\"] = \"newval\"\n",
    "student_marks\n",
    "\n",
    "student_marks[\"newkey\"] = 99\n",
    "\n",
    "student_marks.pop(\"newkey\")\n",
    "print(student_marks)\n",
    "\n",
    "# accessing dict entries\n",
    "student_marks['Alessio']\n",
    "\n",
    "# adding/changing/deleting entries\n",
    "#print(student_marks.keys())\n",
    "#print(student_marks.values())\n",
    "#print(student_marks.items())\n",
    "\n"
   ]
  },
  {
   "cell_type": "markdown",
   "metadata": {},
   "source": [
    "#### Mutable?"
   ]
  },
  {
   "cell_type": "markdown",
   "metadata": {},
   "source": [
    "Object types can be divided into two categories - mutable & immutable. _Mutable_ objects can be changed 'in-place' - their value can be updated, added to, re-ordered etc without the need to create a whole new object every time. _Immutable_ types cannot be changed in place - once they have a value, this value cannot be altered. though, of course, it can __always__ be overwritten."
   ]
  },
  {
   "cell_type": "code",
   "execution_count": 70,
   "metadata": {
    "collapsed": false
   },
   "outputs": [
    {
     "name": "stdout",
     "output_type": "stream",
     "text": [
      "['Nairobi', 'Vancouver', 'Wellington', 'Heidelberg', 'Beijing']\n"
     ]
    }
   ],
   "source": [
    "# lists are mutable\n",
    "cities = ['Nairobi', 'Vancouver', 'Wellington', 'Beijing']\n",
    "cities[2] = 'Heidelberg'\n",
    "\n",
    "cities.insert(2, 'Wellington')\n",
    "print(cities)"
   ]
  },
  {
   "cell_type": "code",
   "execution_count": 65,
   "metadata": {
    "collapsed": false
   },
   "outputs": [
    {
     "name": "stdout",
     "output_type": "stream",
     "text": [
      "k\n"
     ]
    }
   ],
   "source": [
    "# strings are immutable\n",
    "beatles = list(\"I'd like to be under the sea\")\n",
    "print(beatles[6])"
   ]
  },
  {
   "cell_type": "markdown",
   "metadata": {},
   "source": [
    "### Looping"
   ]
  },
  {
   "cell_type": "markdown",
   "metadata": {},
   "source": [
    "Time for some real programming. The biggest motivation for researches to learn a programming language is the opportunity to automate repetitive tasks and analyses.\n",
    "\n",
    "For loops define a set of steps that will be carried out for all items in a sequence. The items in the sequence will be taken one-at-a-time, and the loop performed, until there are no more items to process."
   ]
  },
  {
   "cell_type": "code",
   "execution_count": 73,
   "metadata": {
    "collapsed": false
   },
   "outputs": [
    {
     "name": "stdout",
     "output_type": "stream",
     "text": [
      "Spring\n",
      "Summer\n",
      "Autumn\n",
      "Winter\n",
      "outside loop: Winter\n"
     ]
    }
   ],
   "source": [
    "#for season in ['Spring', 'Summer', 'Autumn', 'Winter']\n",
    "# print season entries one by one\n",
    "\n",
    "seasons = ['Spring', 'Summer', 'Autumn', 'Winter']\n",
    "\n",
    "for season in seasons:\n",
    "    print(season)\n",
    "print(\"outside loop: %s\" % season)"
   ]
  },
  {
   "cell_type": "code",
   "execution_count": 76,
   "metadata": {
    "collapsed": false
   },
   "outputs": [
    {
     "name": "stdout",
     "output_type": "stream",
     "text": [
      "P\n",
      "Y\n",
      "T\n",
      "H\n",
      "O\n",
      "N\n",
      "656\n",
      "789\n",
      "789\n",
      "56\n"
     ]
    }
   ],
   "source": [
    "word = 'python'\n",
    "\n",
    "for letter in word:\n",
    "    print(letter.upper())\n",
    "    \n",
    "for item in [656, 789, 789, 56]:\n",
    "    print(item)"
   ]
  },
  {
   "cell_type": "code",
   "execution_count": 100,
   "metadata": {
    "collapsed": false
   },
   "outputs": [
    {
     "name": "stdout",
     "output_type": "stream",
     "text": [
      "{'Sandy': 1, 'Pete': 2, 'Richard': 3, 'Rebecca': 4}\n"
     ]
    }
   ],
   "source": [
    "# iterating through two lists simultaneously\n",
    "student_names = ['Sandy', 'Pete', 'Richard', 'Rebecca']\n",
    "other_student_names = ['Sam', 'Fiona', 'Sarah', \n",
    "                       'Richard', 'Sarah', 'Matthew']\n",
    "\n",
    "rollnumber = [1, 2, 3, 4, 6, 7, 8]\n",
    "\n",
    "#print(range(len(student_names)))\n",
    "\n",
    "student_number_dict = {}\n",
    "for i in range(len(student_names)):\n",
    "    #print(student_names[i], rollnumber[i])\n",
    "    student_number_dict[student_names[i]] = rollnumber[i]\n",
    "    \n",
    "print(student_number_dict)"
   ]
  },
  {
   "cell_type": "code",
   "execution_count": 98,
   "metadata": {
    "collapsed": false
   },
   "outputs": [
    {
     "name": "stdout",
     "output_type": "stream",
     "text": [
      "[0, 1, 2, 3]\n",
      "[0, 1, 2, 3]\n",
      "[50, 51, 52, 53, 54, 55, 56, 57, 58, 59, 60]\n",
      "[50, 53, 56, 59]\n"
     ]
    }
   ],
   "source": [
    "# range\n",
    "print(list(range(0, 4)))\n",
    "\n",
    "print(list(range(4)))\n",
    "\n",
    "i = 50\n",
    "j = 60\n",
    "print(list(range(i, j+1)))\n",
    "\n",
    "print(list(range(i, j+1, 3)))\n",
    "# zip\n",
    "\n",
    "# enumerate"
   ]
  },
  {
   "cell_type": "code",
   "execution_count": 44,
   "metadata": {
    "collapsed": true
   },
   "outputs": [],
   "source": [
    "# list comprehensions\n"
   ]
  },
  {
   "cell_type": "markdown",
   "metadata": {},
   "source": [
    "### Conditionals - if, elif, else"
   ]
  },
  {
   "cell_type": "markdown",
   "metadata": {},
   "source": [
    "Looping allows you to perform a common set of operations on multiple pieces of data very quickly. But what if you want to treat the pieces differently, depending on some property or other of the objects?\n",
    "\n",
    "This is the other central part of programming: testing for certain circumstances and changing the treatment of pieces of data accordingly. It is known as _flow control_, as you are controlling the flow of data through your script of operations."
   ]
  },
  {
   "cell_type": "markdown",
   "metadata": {},
   "source": [
    "#### if - elif - else"
   ]
  },
  {
   "cell_type": "code",
   "execution_count": 110,
   "metadata": {
    "collapsed": false
   },
   "outputs": [
    {
     "name": "stdout",
     "output_type": "stream",
     "text": [
      "temperature is not > 30\n",
      "False\n",
      "------\n",
      "temperature is < 30\n"
     ]
    }
   ],
   "source": [
    "# use if statements to test for a condition\n",
    "\n",
    "temperature = 25\n",
    "\n",
    "if temperature > 30:\n",
    "    print(True)\n",
    "    \n",
    "if temperature > 30:\n",
    "    print(\"temperature is > 30\")\n",
    "    print(temperature*120)\n",
    "    print(True)\n",
    "else:\n",
    "    print(\"temperature is not > 30\")\n",
    "    print(False)\n",
    "\n",
    "# use else to dictate what happens when the condition isn't met\n",
    "\n",
    "# use elif to add more conditionals\n",
    "\n",
    "print('------')\n",
    "if temperature > 30:\n",
    "    print('yes')\n",
    "elif temperature < 30:\n",
    "    print('temperature is < 30')\n",
    "else:\n",
    "    print('temperature is 30')"
   ]
  },
  {
   "cell_type": "code",
   "execution_count": 113,
   "metadata": {
    "collapsed": false
   },
   "outputs": [
    {
     "name": "stdout",
     "output_type": "stream",
     "text": [
      "Toby\n"
     ]
    }
   ],
   "source": [
    "# list comprehensions with conditionals\n",
    "namelist1 = ['sara', 'matt', 'ben', 'toby']\n",
    "namelist2 = ['frank', 'jules', 'james', 'toby']\n",
    "\n",
    "for name in namelist1:\n",
    "    for name2 in namelist2:\n",
    "        if name == name2:\n",
    "            print(name.capitalize())\n",
    "       # else:\n",
    "        #    print(False)"
   ]
  },
  {
   "cell_type": "code",
   "execution_count": 114,
   "metadata": {
    "collapsed": false
   },
   "outputs": [
    {
     "name": "stdout",
     "output_type": "stream",
     "text": [
      "['sara', 'matt', 'ben', 'toby', 'frank', 'jules', 'james', 'toby']\n"
     ]
    }
   ],
   "source": [
    "combined_list = namelist1 + namelist2\n",
    "print(combined_list)"
   ]
  },
  {
   "cell_type": "code",
   "execution_count": 121,
   "metadata": {
    "collapsed": false
   },
   "outputs": [
    {
     "name": "stdout",
     "output_type": "stream",
     "text": [
      "['sara', 'matt', 'ben', 'toby']\n",
      "name exists: toby\n",
      "['sara', 'matt', 'ben', 'toby', 'frank', 'jules', 'james']\n"
     ]
    }
   ],
   "source": [
    "combined_list2 = []\n",
    "\n",
    "for name in namelist1:\n",
    "    if name not in combined_list2:\n",
    "        combined_list2.append(name)\n",
    "print(combined_list2)\n",
    "\n",
    "for name2 in namelist2:\n",
    "    if name2 not in combined_list2:\n",
    "        combined_list2.append(name2)\n",
    "    else:\n",
    "        print(\"name exists: %s\" % name2)\n",
    "    print(combined_list2)"
   ]
  },
  {
   "cell_type": "code",
   "execution_count": null,
   "metadata": {
    "collapsed": true
   },
   "outputs": [],
   "source": []
  }
 ],
 "metadata": {
  "kernelspec": {
   "display_name": "Python 3",
   "language": "python",
   "name": "python3"
  },
  "language_info": {
   "codemirror_mode": {
    "name": "ipython",
    "version": 3
   },
   "file_extension": ".py",
   "mimetype": "text/x-python",
   "name": "python",
   "nbconvert_exporter": "python",
   "pygments_lexer": "ipython3",
   "version": "3.6.0"
  }
 },
 "nbformat": 4,
 "nbformat_minor": 1
}
